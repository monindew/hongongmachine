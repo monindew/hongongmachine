{
  "nbformat": 4,
  "nbformat_minor": 0,
  "metadata": {
    "colab": {
      "provenance": [],
      "authorship_tag": "ABX9TyNu8P47wqgnKWrJr5ket3/G",
      "include_colab_link": true
    },
    "kernelspec": {
      "name": "python3",
      "display_name": "Python 3"
    },
    "language_info": {
      "name": "python"
    }
  },
  "cells": [
    {
      "cell_type": "markdown",
      "metadata": {
        "id": "view-in-github",
        "colab_type": "text"
      },
      "source": [
        "<a href=\"https://colab.research.google.com/github/monindew/hongongmachine/blob/main/iamdo1.ipynb\" target=\"_parent\"><img src=\"https://colab.research.google.com/assets/colab-badge.svg\" alt=\"Open In Colab\"/></a>"
      ]
    },
    {
      "cell_type": "code",
      "execution_count": 1,
      "metadata": {
        "id": "EFUQWN-GdoeB"
      },
      "outputs": [],
      "source": [
        "import tensorflow as tf\n",
        "from tensorflow import keras\n",
        "import numpy as np\n",
        "import matplotlib.pyplot as plt"
      ]
    },
    {
      "cell_type": "code",
      "source": [
        "mnist = keras.datasets.mnist\n",
        "(X_train, y_train), (X_test, y_test) = mnist.load_data()"
      ],
      "metadata": {
        "colab": {
          "base_uri": "https://localhost:8080/"
        },
        "id": "gTWkHgRSd1uI",
        "outputId": "af495f75-d382-4eee-d186-aee5b0da68f5"
      },
      "execution_count": 2,
      "outputs": [
        {
          "output_type": "stream",
          "name": "stdout",
          "text": [
            "Downloading data from https://storage.googleapis.com/tensorflow/tf-keras-datasets/mnist.npz\n",
            "11490434/11490434 [==============================] - 0s 0us/step\n"
          ]
        }
      ]
    },
    {
      "cell_type": "code",
      "source": [
        "plt.imshow(X_train[0], cmap='gray')\n",
        "plt.show()"
      ],
      "metadata": {
        "colab": {
          "base_uri": "https://localhost:8080/",
          "height": 430
        },
        "id": "V9CUdIrOeAYL",
        "outputId": "c83a03a8-86a9-408c-df9d-fe633073994b"
      },
      "execution_count": 3,
      "outputs": [
        {
          "output_type": "display_data",
          "data": {
            "text/plain": [
              "<Figure size 640x480 with 1 Axes>"
            ],
            "image/png": "[encoded data removed]"
          },
          "metadata": {}
        }
      ]
    },
    {
      "cell_type": "code",
      "source": [
        "for data in X_train[46]:\n",
        "  for i in data:\n",
        "    print(\"{:^4}\".format(i), end=\"\")\n",
        "  print()"
      ],
      "metadata": {
        "colab": {
          "base_uri": "https://localhost:8080/"
        },
        "id": "CYS0fKcPeGU1",
        "outputId": "452d2c8c-f2cd-4dd5-c217-d4ad3bf2e9c4"
      },
      "execution_count": 4,
      "outputs": [
        {
          "output_type": "stream",
          "name": "stdout",
          "text": [
            " 0   0   0   0   0   0   0   0   0   0   0   0   0   0   0   0   0   0   0   0   0   0   0   0   0   0   0   0  \n",
            " 0   0   0   0   0   0   0   0   0   0   0   0   0   0   0   0   0   0   0   0   0   0   0   0   0   0   0   0  \n",
            " 0   0   0   0   0   0   0   0   0   0   0   0   0   0   0   0   0   0   0   0   0   0   0   0   0   0   0   0  \n",
            " 0   0   0   0   0   0   0   0   0   0   0   0   0   0   0   0   0   0   0   0   0   0   0   0   0   0   0   0  \n",
            " 0   0   0   0   0   0   0   0   0   0   0   0   0   0   0   0   0   0   0   0   0   0   0   0   0   0   0   0  \n",
            " 0   0   0   0   0   0   0   0   0   0   0   0   2  152 203 181 141  58  17  0   0   0   0   0   0   0   0   0  \n",
            " 0   0   0   0   0   0   0   0   0   0   0   0   0   40 172 247 188 232 234  35  0   0   0   0   0   0   0   0  \n",
            " 0   0   0   0   0   0   0   0   0   0   17  82 101 143 252 245  67  35 225 214  0   0   0   0   0   0   0   0  \n",
            " 0   0   0   0   0   0   0   0   5  132 237 254 254 254 254 254 243  80 210 248  35  0   0   0   0   0   0   0  \n",
            " 0   0   0   0   0   0   0   0  163 251 211 107  23  36 120 240 246  98 218 143  0   0   0   0   0   0   0   0  \n",
            " 0   0   0   0   0   0   0   47 251 166  0   0   0   0   0   16  43 189 212  25  0   0   0   0   0   0   0   0  \n",
            " 0   0   0   0   0   0   0   40 250 214  14  0   0   0   0   10 148 250  99  0   0   0   0   0   0   0   0   0  \n",
            " 0   0   0   0   0   0   0   0  137 254 234 103  6   0   0  154 225  85  0   0   0   0   0   0   0   0   0   0  \n",
            " 0   0   0   0   0   0   0   0   3   44 195 254 184  24 129 235  35  0   0   0   0   0   0   0   0   0   0   0  \n",
            " 0   0   0   0   0   0   0   0   0   0   0  101 240 254 254  66  0   0   0   0   0   0   0   0   0   0   0   0  \n",
            " 0   0   0   0   0   0   0   0   0   0   0   0  172 254 254 108  0   0   0   0   0   0   0   0   0   0   0   0  \n",
            " 0   0   0   0   0   0   0   0   0   0   2  154 253  98 190 254 104  0   0   0   0   0   0   0   0   0   0   0  \n",
            " 0   0   0   0   0   0   0   0   0   0   91 254 131  0   13 212 225  64  0   0   0   0   0   0   0   0   0   0  \n",
            " 0   0   0   0   0   0   0   0   0   20 238 254  29  0   0   55 244 195  20  0   0   0   0   0   0   0   0   0  \n",
            " 0   0   0   0   0   0   0   0   0   90 254 219  6   0   0   0  100 254 111  0   0   0   0   0   0   0   0   0  \n",
            " 0   0   0   0   0   0   0   0   0  127 254 116  0   0   0   0   23 248 126  0   0   0   0   0   0   0   0   0  \n",
            " 0   0   0   0   0   0   0   0   0  127 254  63  0   0   0   0   49 252 126  0   0   0   0   0   0   0   0   0  \n",
            " 0   0   0   0   0   0   0   0   0  124 248  29  0   0   0   38 167 254 101  0   0   0   0   0   0   0   0   0  \n",
            " 0   0   0   0   0   0   0   0   0   29 233 211 115 115 135 254 244 130  0   0   0   0   0   0   0   0   0   0  \n",
            " 0   0   0   0   0   0   0   0   0   0   70 236 254 254 254 173  38  0   0   0   0   0   0   0   0   0   0   0  \n",
            " 0   0   0   0   0   0   0   0   0   0   0   0   0   0   0   0   0   0   0   0   0   0   0   0   0   0   0   0  \n",
            " 0   0   0   0   0   0   0   0   0   0   0   0   0   0   0   0   0   0   0   0   0   0   0   0   0   0   0   0  \n",
            " 0   0   0   0   0   0   0   0   0   0   0   0   0   0   0   0   0   0   0   0   0   0   0   0   0   0   0   0  \n"
          ]
        }
      ]
    },
    {
      "cell_type": "code",
      "source": [
        "X_train = X_train / 255\n",
        "X_test = X_test / 255"
      ],
      "metadata": {
        "id": "L0aNhbSfeXq0"
      },
      "execution_count": 5,
      "outputs": []
    },
    {
      "cell_type": "code",
      "source": [
        "np.reshape(X_train, (-1))"
      ],
      "metadata": {
        "colab": {
          "base_uri": "https://localhost:8080/"
        },
        "id": "pjtWGvj3eiyv",
        "outputId": "af4cf2c1-a7f2-407f-c196-007035aea434"
      },
      "execution_count": 6,
      "outputs": [
        {
          "output_type": "execute_result",
          "data": {
            "text/plain": [
              "array([0., 0., 0., ..., 0., 0., 0.])"
            ]
          },
          "metadata": {},
          "execution_count": 6
        }
      ]
    },
    {
      "cell_type": "code",
      "source": [
        "model = keras.models.Sequential([\n",
        "    keras.layers.Flatten(input_shape= [28,28]),\n",
        "    keras.layers.Dense(200, activation =\"relu\"),\n",
        "    keras.layers.Dense(100, activation =\"relu\"),\n",
        "    keras.layers.Dense(50, activation = \"relu\"),\n",
        "    keras.layers.Dense(10, activation =\"softmax\")\n",
        "])"
      ],
      "metadata": {
        "id": "QrXEathOemr4"
      },
      "execution_count": 7,
      "outputs": []
    },
    {
      "cell_type": "code",
      "source": [
        "model.compile(optimizer=\"adam\", loss=\"sparse_categorical_crossentropy\",\n",
        "              metrics=[\"accuracy\"])"
      ],
      "metadata": {
        "id": "LBO5TwwhjYCk"
      },
      "execution_count": 9,
      "outputs": []
    },
    {
      "cell_type": "code",
      "source": [
        "model.fit(X_train, y_train, epochs=5)"
      ],
      "metadata": {
        "colab": {
          "base_uri": "https://localhost:8080/"
        },
        "id": "ZS3lRvchn2Y7",
        "outputId": "cb13a66d-99bc-468f-8af5-fd9567920dd3"
      },
      "execution_count": 10,
      "outputs": [
        {
          "output_type": "stream",
          "name": "stdout",
          "text": [
            "Epoch 1/5\n",
            "1875/1875 [==============================] - 13s 6ms/step - loss: 0.2217 - accuracy: 0.9347\n",
            "Epoch 2/5\n",
            "1875/1875 [==============================] - 7s 4ms/step - loss: 0.0923 - accuracy: 0.9710\n",
            "Epoch 3/5\n",
            "1875/1875 [==============================] - 8s 4ms/step - loss: 0.0659 - accuracy: 0.9793\n",
            "Epoch 4/5\n",
            "1875/1875 [==============================] - 8s 4ms/step - loss: 0.0513 - accuracy: 0.9834\n",
            "Epoch 5/5\n",
            "1875/1875 [==============================] - 7s 4ms/step - loss: 0.0400 - accuracy: 0.9876\n"
          ]
        },
        {
          "output_type": "execute_result",
          "data": {
            "text/plain": [
              "<keras.src.callbacks.History at 0x7d63cbdcca00>"
            ]
          },
          "metadata": {},
          "execution_count": 10
        }
      ]
    },
    {
      "cell_type": "code",
      "source": [
        "model.evaluate(X_test,y_test)"
      ],
      "metadata": {
        "colab": {
          "base_uri": "https://localhost:8080/"
        },
        "id": "hv5es3OboCfU",
        "outputId": "368ea1e6-7ab7-4bbf-da1a-b1bf61e811e4"
      },
      "execution_count": 11,
      "outputs": [
        {
          "output_type": "stream",
          "name": "stdout",
          "text": [
            "313/313 [==============================] - 1s 4ms/step - loss: 0.0804 - accuracy: 0.9766\n"
          ]
        },
        {
          "output_type": "execute_result",
          "data": {
            "text/plain": [
              "[0.08039607107639313, 0.9765999913215637]"
            ]
          },
          "metadata": {},
          "execution_count": 11
        }
      ]
    },
    {
      "cell_type": "code",
      "source": [
        "plt.imshow(X_test[46], cmap=\"gray\")\n",
        "plt.show()"
      ],
      "metadata": {
        "colab": {
          "base_uri": "https://localhost:8080/",
          "height": 430
        },
        "id": "H8COpHIMonkX",
        "outputId": "3a2f5e4a-4a74-44f5-c932-20c0711dd450"
      },
      "execution_count": 12,
      "outputs": [
        {
          "output_type": "display_data",
          "data": {
            "text/plain": [
              "<Figure size 640x480 with 1 Axes>"
            ],
            "image/png": "[encoded data removed]"
          },
          "metadata": {}
        }
      ]
    },
    {
      "cell_type": "code",
      "source": [
        "print(model.predict(X_test))"
      ],
      "metadata": {
        "colab": {
          "base_uri": "https://localhost:8080/"
        },
        "id": "WTvG-caBoyfD",
        "outputId": "76db52e0-7d58-4df7-fb16-72a3e471185b"
      },
      "execution_count": 13,
      "outputs": [
        {
          "output_type": "stream",
          "name": "stdout",
          "text": [
            "313/313 [==============================] - 1s 3ms/step\n",
            "[[8.0546997e-10 2.5245731e-08 1.9557520e-07 ... 9.9998575e-01\n",
            "  2.1161993e-07 1.6430030e-06]\n",
            " [5.4059841e-09 5.0240878e-08 9.9999970e-01 ... 2.9483518e-09\n",
            "  2.2876391e-07 1.9452579e-13]\n",
            " [9.6964197e-07 9.9980092e-01 1.6655919e-06 ... 7.1497902e-06\n",
            "  8.4481537e-05 3.7465256e-07]\n",
            " ...\n",
            " [2.5366537e-06 4.9171337e-07 1.1337732e-07 ... 6.9607592e-07\n",
            "  1.4652595e-07 8.2994632e-07]\n",
            " [3.0675966e-13 6.2693308e-09 5.6450453e-14 ... 1.3621619e-10\n",
            "  2.5198172e-08 2.3596166e-12]\n",
            " [9.5835341e-14 1.2760259e-13 1.5343562e-17 ... 1.1553114e-17\n",
            "  2.1946168e-10 2.9046522e-13]]\n"
          ]
        }
      ]
    },
    {
      "cell_type": "code",
      "source": [
        "print(model.predict(X_test[46].reshape(1,28,28)))"
      ],
      "metadata": {
        "colab": {
          "base_uri": "https://localhost:8080/"
        },
        "id": "_rBJDIXUo3Hw",
        "outputId": "d025500d-4257-4193-d308-3997cee06d74"
      },
      "execution_count": 14,
      "outputs": [
        {
          "output_type": "stream",
          "name": "stdout",
          "text": [
            "1/1 [==============================] - 0s 27ms/step\n",
            "[[8.6574154e-08 9.9827504e-01 1.1066126e-04 3.9047346e-04 1.5500694e-04\n",
            "  9.0183830e-06 6.8226207e-08 5.2509812e-04 2.9825588e-04 2.3613274e-04]]\n"
          ]
        }
      ]
    },
    {
      "cell_type": "code",
      "source": [
        "print(np.argmax(model.predict(X_test[46].reshape(1,28,28))))"
      ],
      "metadata": {
        "colab": {
          "base_uri": "https://localhost:8080/"
        },
        "id": "GRPChV3xsgmt",
        "outputId": "3c99be96-f5a3-4478-99a3-bccd9b1ccc38"
      },
      "execution_count": 16,
      "outputs": [
        {
          "output_type": "stream",
          "name": "stdout",
          "text": [
            "1/1 [==============================] - 0s 151ms/step\n",
            "1\n"
          ]
        }
      ]
    },
    {
      "cell_type": "code",
      "source": [],
      "metadata": {
        "id": "hvzWGhpus1S4"
      },
      "execution_count": null,
      "outputs": []
    }
  ]
}